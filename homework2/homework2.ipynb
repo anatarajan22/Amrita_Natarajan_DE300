{
 "cells": [
  {
   "cell_type": "code",
   "execution_count": 1,
   "id": "274ad682-acbe-4acf-bed7-dadd41606b37",
   "metadata": {},
   "outputs": [
    {
     "name": "stdout",
     "output_type": "stream",
     "text": [
      "  % Total    % Received % Xferd  Average Speed   Time    Time     Time  Current\n",
      "                                 Dload  Upload   Total   Spent    Left  Speed\n",
      "100  1468  100  1468    0     0   6096      0 --:--:-- --:--:-- --:--:--  6116\n"
     ]
    }
   ],
   "source": [
    "!curl https://certs.secureserver.net/repository/sf-class2-root.crt -O"
   ]
  },
  {
   "cell_type": "code",
   "execution_count": 2,
   "id": "586a1613-0620-4a50-906a-20b5fb622bfc",
   "metadata": {},
   "outputs": [
    {
     "name": "stdout",
     "output_type": "stream",
     "text": [
      "Requirement already satisfied: cassandra-sigv4 in /opt/conda/lib/python3.11/site-packages (4.0.2)\n",
      "Requirement already satisfied: cassandra-driver in /opt/conda/lib/python3.11/site-packages (from cassandra-sigv4) (3.29.2)\n",
      "Requirement already satisfied: boto3 in /opt/conda/lib/python3.11/site-packages (from cassandra-sigv4) (1.38.11)\n",
      "Requirement already satisfied: six in /opt/conda/lib/python3.11/site-packages (from cassandra-sigv4) (1.16.0)\n",
      "Requirement already satisfied: botocore<1.39.0,>=1.38.11 in /opt/conda/lib/python3.11/site-packages (from boto3->cassandra-sigv4) (1.38.11)\n",
      "Requirement already satisfied: jmespath<2.0.0,>=0.7.1 in /opt/conda/lib/python3.11/site-packages (from boto3->cassandra-sigv4) (1.0.1)\n",
      "Requirement already satisfied: s3transfer<0.13.0,>=0.12.0 in /opt/conda/lib/python3.11/site-packages (from boto3->cassandra-sigv4) (0.12.0)\n",
      "Requirement already satisfied: geomet<0.3,>=0.1 in /opt/conda/lib/python3.11/site-packages (from cassandra-driver->cassandra-sigv4) (0.2.1.post1)\n",
      "Requirement already satisfied: python-dateutil<3.0.0,>=2.1 in /opt/conda/lib/python3.11/site-packages (from botocore<1.39.0,>=1.38.11->boto3->cassandra-sigv4) (2.8.2)\n",
      "Requirement already satisfied: urllib3!=2.2.0,<3,>=1.25.4 in /opt/conda/lib/python3.11/site-packages (from botocore<1.39.0,>=1.38.11->boto3->cassandra-sigv4) (2.0.7)\n",
      "Requirement already satisfied: click in /opt/conda/lib/python3.11/site-packages (from geomet<0.3,>=0.1->cassandra-driver->cassandra-sigv4) (8.1.7)\n",
      "Note: you may need to restart the kernel to use updated packages.\n"
     ]
    }
   ],
   "source": [
    "%pip install cassandra-sigv4"
   ]
  },
  {
   "cell_type": "code",
   "execution_count": 3,
   "id": "d86f9ecf-e48b-4f06-b835-70afb30b5720",
   "metadata": {},
   "outputs": [
    {
     "name": "stderr",
     "output_type": "stream",
     "text": [
      "/tmp/ipykernel_18298/332746716.py:7: DeprecationWarning: ssl.PROTOCOL_TLSv1_2 is deprecated\n",
      "  ssl_context = SSLContext(PROTOCOL_TLSv1_2)\n"
     ]
    }
   ],
   "source": [
    "from cassandra.cluster import Cluster\n",
    "from ssl import SSLContext, PROTOCOL_TLSv1_2, CERT_REQUIRED\n",
    "from cassandra_sigv4.auth import SigV4AuthProvider\n",
    "import boto3\n",
    "\n",
    "# ssl setup\n",
    "ssl_context = SSLContext(PROTOCOL_TLSv1_2)\n",
    "ssl_context.load_verify_locations('sf-class2-root.crt')  # change your file path for locating the certificate\n",
    "ssl_context.verify_mode = CERT_REQUIRED\n",
    "\n",
    "# boto3 session setup\n",
    "boto_session = boto3.Session(region_name=\"us-east-2\")  # this AWS credentials is specific to `us-east-2` region"
   ]
  },
  {
   "cell_type": "code",
   "execution_count": 4,
   "id": "1855efa0-0cb5-4990-8d16-174586477a83",
   "metadata": {},
   "outputs": [],
   "source": [
    "auth_provider = SigV4AuthProvider(boto_session)"
   ]
  },
  {
   "cell_type": "code",
   "execution_count": 5,
   "id": "10a664b5-8a4d-4883-9d24-07811bf4c584",
   "metadata": {},
   "outputs": [],
   "source": [
    "#cluster setup \n",
    "cluster = Cluster(['cassandra.us-east-2.amazonaws.com'], \n",
    "                  ssl_context=ssl_context, \n",
    "                  auth_provider=auth_provider, \n",
    "                  port=9142)  # TLS only communicates on port 9142"
   ]
  },
  {
   "cell_type": "code",
   "execution_count": 6,
   "id": "2498aa01-f3f4-48a1-98f9-238a905c0a39",
   "metadata": {},
   "outputs": [],
   "source": [
    "# establishing connection to Keyspace\n",
    "session = cluster.connect()"
   ]
  },
  {
   "cell_type": "code",
   "execution_count": 7,
   "id": "ad92d0bf-0b3b-4a2c-81a1-a223b8aaaac3",
   "metadata": {},
   "outputs": [],
   "source": [
    "from cassandra.cluster import ExecutionProfile, EXEC_PROFILE_DEFAULT\n",
    "from cassandra import ConsistencyLevel\n",
    "\n",
    "\n",
    "# Define execution profile with LOCAL_QUORUM\n",
    "execution_profile = ExecutionProfile(\n",
    "    consistency_level=ConsistencyLevel.LOCAL_QUORUM\n",
    ")\n",
    "\n",
    "# Cluster setup with correct profile\n",
    "cluster = Cluster(\n",
    "    ['cassandra.us-east-2.amazonaws.com'],\n",
    "    ssl_context=ssl_context,\n",
    "    auth_provider=auth_provider,\n",
    "    port=9142,\n",
    "    execution_profiles={EXEC_PROFILE_DEFAULT: execution_profile}\n",
    ")\n",
    "\n",
    "# establishing connection to Keyspace\n",
    "session = cluster.connect()\n",
    "session.set_keyspace('homework2')"
   ]
  },
  {
   "cell_type": "code",
   "execution_count": 8,
   "id": "280dc425-3aa1-4b3c-89f1-0413f33b68d1",
   "metadata": {},
   "outputs": [],
   "source": [
    "import pandas as pd\n",
    "\n",
    "ADMISSIONS = pd.read_csv(\"ADMISSIONS.csv\")\n",
    "D_ICD_PROCEDURES = pd.read_csv(\"D_ICD_PROCEDURES.csv\")\n",
    "DRGCODES = pd.read_csv(\"DRGCODES.csv\")\n",
    "ICUSTAYS = pd.read_csv(\"ICUSTAYS.csv\")\n",
    "PATIENTS = pd.read_csv(\"PATIENTS.csv\")\n",
    "PRESCRIPTIONS = pd.read_csv(\"PRESCRIPTIONS.csv\")\n",
    "PROCEDURES_ICD = pd.read_csv(\"PROCEDURES_ICD.csv\")"
   ]
  },
  {
   "cell_type": "markdown",
   "id": "8aaa7b0d-979c-477c-91dc-e786b24432b9",
   "metadata": {},
   "source": [
    "**Question 1: Create a summary of type of drugs and their total amount used by ethnicity. Report the top usage in each ethnicity group. You may have to make certain assumptions in calculating their total amount.**"
   ]
  },
  {
   "cell_type": "markdown",
   "id": "f89833d4-3a0f-49d5-9fdd-32d9a9e0eb56",
   "metadata": {},
   "source": [
    "A. "
   ]
  },
  {
   "cell_type": "code",
   "execution_count": 9,
   "id": "8dc398eb-3bfe-4f72-b148-d26edceba8b5",
   "metadata": {},
   "outputs": [
    {
     "data": {
      "text/plain": [
       "<cassandra.cluster.ResultSet at 0x765003560bd0>"
      ]
     },
     "execution_count": 9,
     "metadata": {},
     "output_type": "execute_result"
    }
   ],
   "source": [
    "session.execute(\"\"\"\n",
    "    CREATE TABLE IF NOT EXISTS top_drug_by_ethnicity (\n",
    "        ethnicity text,                -- Partition Key (mandatory)\n",
    "        drug_type text,                -- Clustering Column\n",
    "        drug_count int,                -- Data Value\n",
    "        PRIMARY KEY ((ethnicity), drug_count, drug_type)\n",
    "    ) WITH CLUSTERING ORDER BY (drug_count DESC, drug_type ASC);\n",
    "\"\"\")"
   ]
  },
  {
   "cell_type": "markdown",
   "id": "524cc511-cfac-4295-bd99-a98f2a69df51",
   "metadata": {},
   "source": [
    "B."
   ]
  },
  {
   "cell_type": "code",
   "execution_count": 10,
   "id": "e69ee692-91e6-4cfd-b82b-6d99058d9a28",
   "metadata": {},
   "outputs": [],
   "source": [
    "merged = pd.merge(\n",
    "    ADMISSIONS[['hadm_id', 'ethnicity']],\n",
    "    PRESCRIPTIONS[['hadm_id', 'drug_type']],\n",
    "    on='hadm_id'\n",
    ")\n",
    "\n",
    "drug_counts = merged.groupby(['ethnicity', 'drug_type']).size().reset_index(name='drug_count')\n",
    "\n",
    "insert_stmt = session.prepare(\"\"\"\n",
    "    INSERT INTO top_drug_by_ethnicity (ethnicity, drug_type, drug_count)\n",
    "    VALUES (?, ?, ?)\n",
    "\"\"\")"
   ]
  },
  {
   "cell_type": "markdown",
   "id": "4503e459-5dd3-4f6c-932c-88f3e8f858d1",
   "metadata": {},
   "source": [
    "C."
   ]
  },
  {
   "cell_type": "code",
   "execution_count": 11,
   "id": "9fe0aad9-04f8-4288-99de-01fd6b40f0a4",
   "metadata": {},
   "outputs": [
    {
     "name": "stdout",
     "output_type": "stream",
     "text": [
      "Ethnicity: AMERICAN INDIAN/ALASKA NATIVE FEDERALLY RECOGNIZED TRIBE, Top Drug: MAIN, Count: 200\n",
      "Ethnicity: ASIAN, Top Drug: MAIN, Count: 121\n",
      "Ethnicity: BLACK/AFRICAN AMERICAN, Top Drug: MAIN, Count: 476\n",
      "Ethnicity: HISPANIC OR LATINO, Top Drug: MAIN, Count: 226\n",
      "Ethnicity: HISPANIC/LATINO - PUERTO RICAN, Top Drug: MAIN, Count: 860\n",
      "Ethnicity: OTHER, Top Drug: MAIN, Count: 72\n",
      "Ethnicity: UNABLE TO OBTAIN, Top Drug: MAIN, Count: 89\n",
      "Ethnicity: UNKNOWN/NOT SPECIFIED, Top Drug: MAIN, Count: 245\n",
      "Ethnicity: WHITE, Top Drug: MAIN, Count: 5420\n"
     ]
    }
   ],
   "source": [
    "\n",
    "for _, row in drug_counts.iterrows():\n",
    "    bound = insert_stmt.bind((row['ethnicity'], row['drug_type'], int(row['drug_count'])))\n",
    "    session.execute(bound)\n",
    "\n",
    "ethnicities = drug_counts['ethnicity'].unique()\n",
    "\n",
    "for eth in ethnicities:\n",
    "    result = session.execute(\"\"\"\n",
    "        SELECT * FROM top_drug_by_ethnicity\n",
    "        WHERE ethnicity = %s LIMIT 1\n",
    "    \"\"\", [eth])\n",
    "    for row in result:\n",
    "        print(f\"Ethnicity: {row.ethnicity}, Top Drug: {row.drug_type}, Count: {row.drug_count}\")"
   ]
  },
  {
   "cell_type": "markdown",
   "id": "5e8dc8d6-fcb6-4586-93b0-a1631f254b6b",
   "metadata": {},
   "source": [
    "D. "
   ]
  },
  {
   "cell_type": "code",
   "execution_count": 12,
   "id": "a1d46bcf-3657-4f84-996e-3bac91dab532",
   "metadata": {},
   "outputs": [
    {
     "name": "stdout",
     "output_type": "stream",
     "text": [
      "                                           ethnicity  drug_count drug_type\n",
      "0                                              OTHER          72      MAIN\n",
      "1                             BLACK/AFRICAN AMERICAN         476      MAIN\n",
      "2                                              WHITE        5420      MAIN\n",
      "3                                              ASIAN         121      MAIN\n",
      "4                     HISPANIC/LATINO - PUERTO RICAN         860      MAIN\n",
      "5                              UNKNOWN/NOT SPECIFIED         245      MAIN\n",
      "6                                   UNABLE TO OBTAIN          89      MAIN\n",
      "7  AMERICAN INDIAN/ALASKA NATIVE FEDERALLY RECOGN...         200      MAIN\n",
      "8                                 HISPANIC OR LATINO         226      MAIN\n"
     ]
    }
   ],
   "source": [
    "result = session.execute(\"SELECT * FROM top_drug_by_ethnicity\")\n",
    "df_result = pd.DataFrame(result.all())\n",
    "print(df_result)"
   ]
  },
  {
   "cell_type": "markdown",
   "id": "d376dbd3-94f0-4c1a-b203-1b6592abf106",
   "metadata": {},
   "source": [
    "Above is the code for Question 1, with the resulting table (extraction) with desired data above."
   ]
  },
  {
   "cell_type": "markdown",
   "id": "305649a1-bdf1-4053-a734-8fc09252b91a",
   "metadata": {},
   "source": [
    "***Question 2: Create a summary of procedures performed on patients by age groups (<=19, 20-49, 50-79, >80). Report the top three procedures, along with the name of the procedures, performed in each age group.***"
   ]
  },
  {
   "cell_type": "markdown",
   "id": "10825c9d-5bd1-42c6-be5c-cfa84b0cfed1",
   "metadata": {},
   "source": [
    "A."
   ]
  },
  {
   "cell_type": "code",
   "execution_count": 13,
   "id": "6d0e4323-412b-4e19-9151-f50861d04881",
   "metadata": {},
   "outputs": [
    {
     "data": {
      "text/plain": [
       "<cassandra.cluster.ResultSet at 0x7650000e7d10>"
      ]
     },
     "execution_count": 13,
     "metadata": {},
     "output_type": "execute_result"
    }
   ],
   "source": [
    "session.execute(\"\"\"\n",
    "    CREATE TABLE IF NOT EXISTS top_procedures_by_age_rank (\n",
    "    age_group TEXT,\n",
    "    procedure_count INT,\n",
    "    procedure_name TEXT,\n",
    "    PRIMARY KEY (age_group, procedure_count, procedure_name)\n",
    ") WITH CLUSTERING ORDER BY (procedure_count DESC, procedure_name ASC);\"\"\")"
   ]
  },
  {
   "cell_type": "markdown",
   "id": "d7d43213-5e97-4f87-b502-fb8021830adf",
   "metadata": {},
   "source": [
    "B."
   ]
  },
  {
   "cell_type": "code",
   "execution_count": 14,
   "id": "0448a242-9267-43ff-93b3-fa33e200f368",
   "metadata": {},
   "outputs": [
    {
     "name": "stderr",
     "output_type": "stream",
     "text": [
      "/tmp/ipykernel_18298/4236425396.py:38: FutureWarning: The default of observed=False is deprecated and will be changed to True in a future version of pandas. Pass observed=False to retain current behavior or observed=True to adopt the future default and silence this warning.\n",
      "  .groupby(['age_group', 'procedure_name'])\n"
     ]
    }
   ],
   "source": [
    "\n",
    "ADMISSIONS['admittime'] = pd.to_datetime(ADMISSIONS['admittime'], errors='coerce')\n",
    "PATIENTS['dob'] = pd.to_datetime(PATIENTS['dob'], errors='coerce')\n",
    "\n",
    "merged_adm = ADMISSIONS.merge(PATIENTS[['subject_id', 'dob']], on='subject_id', how='inner')\n",
    "\n",
    "def compute_age(row):\n",
    "    try:\n",
    "        delta = row['admittime'] - row['dob']\n",
    "        return delta.total_seconds() / (60 * 60 * 24 * 365.25)\n",
    "    except:\n",
    "        return None\n",
    "\n",
    "merged_adm['age'] = merged_adm.apply(compute_age, axis=1)\n",
    "\n",
    "merged_adm['age'] = merged_adm['age'].clip(upper=150)\n",
    "\n",
    "merged_adm['age_group'] = pd.cut(\n",
    "    merged_adm['age'],\n",
    "    bins=[-1, 19, 49, 79, 150],\n",
    "    labels=['0-19', '20-49', '50-79', '>80'])\n",
    "\n",
    "procedures_with_age = PROCEDURES_ICD.merge(\n",
    "    merged_adm[['hadm_id', 'age_group']],\n",
    "    on='hadm_id',\n",
    "    how='inner'\n",
    ")\n",
    "\n",
    "procedures_labeled = procedures_with_age.merge(\n",
    "    D_ICD_PROCEDURES[['icd9_code', 'short_title']],\n",
    "    on='icd9_code',\n",
    "    how='left' \n",
    ")\n",
    "\n",
    "procedures_labeled.rename(columns={'short_title': 'procedure_name'}, inplace=True)\n",
    "\n",
    "procedure_counts = (\n",
    "    procedures_labeled\n",
    "    .groupby(['age_group', 'procedure_name'])\n",
    "    .size()\n",
    "    .reset_index(name='procedure_count')\n",
    ")\n",
    "\n",
    "procedure_counts = procedure_counts[procedure_counts['procedure_count'] > 0]\n",
    "\n",
    "insert_stmt = session.prepare(\"\"\"\n",
    "    INSERT INTO top_procedures_by_age_rank (age_group, procedure_count, procedure_name)\n",
    "    VALUES (?, ?, ?)\n",
    "\"\"\")\n",
    "\n",
    "for _, row in procedure_counts.iterrows():\n",
    "    session.execute(insert_stmt, (\n",
    "        row['age_group'],\n",
    "        int(row['procedure_count']),\n",
    "        row['procedure_name']\n",
    "    ))"
   ]
  },
  {
   "cell_type": "markdown",
   "id": "bf0bc077-dc80-46b0-a790-3a8c50227640",
   "metadata": {},
   "source": [
    "C."
   ]
  },
  {
   "cell_type": "code",
   "execution_count": 15,
   "id": "34cb494b-6269-4ebf-b722-2ebbdabdc74e",
   "metadata": {},
   "outputs": [],
   "source": [
    "age_groups = ['0-19', '20-49', '50-79', '>80']\n",
    "\n",
    "results = []\n",
    "for group in age_groups:\n",
    "    rows = session.execute(\n",
    "        \"\"\"\n",
    "        SELECT procedure_name, procedure_count\n",
    "        FROM top_procedures_by_age_rank\n",
    "        WHERE age_group = %s\n",
    "        LIMIT 3;\n",
    "        \"\"\",\n",
    "        (group,)\n",
    "    )\n",
    "    for row in rows:\n",
    "        results.append({\n",
    "            'age_group': group,\n",
    "            'procedure_name': row.procedure_name,\n",
    "            'procedure_count': row.procedure_count\n",
    "        })\n"
   ]
  },
  {
   "cell_type": "markdown",
   "id": "5d23a4a1-65bf-4d44-9c90-53696037cc70",
   "metadata": {},
   "source": [
    "D."
   ]
  },
  {
   "cell_type": "code",
   "execution_count": 16,
   "id": "0bb461c7-812d-4b9a-9587-2356bfad97d4",
   "metadata": {},
   "outputs": [
    {
     "name": "stdout",
     "output_type": "stream",
     "text": [
      "   age_group            procedure_name  procedure_count\n",
      "0       0-19           Venous cath NEC                2\n",
      "1       0-19  Applic ext fix dev-femur                1\n",
      "2       0-19         Atlas-axis fusion                1\n",
      "3      20-49           Venous cath NEC                9\n",
      "4      20-49   Entral infus nutrit sub                7\n",
      "5      20-49  Cont inv mec ven 96+ hrs                6\n",
      "6      50-79           Venous cath NEC               25\n",
      "7      50-79   Entral infus nutrit sub               22\n",
      "8      50-79   Packed cell transfusion               13\n",
      "9        >80           Venous cath NEC               16\n",
      "10       >80   Packed cell transfusion               13\n",
      "11       >80  Insert endotracheal tube                8\n"
     ]
    }
   ],
   "source": [
    "top_3_df = pd.DataFrame(results)\n",
    "print(top_3_df)"
   ]
  },
  {
   "cell_type": "code",
   "execution_count": 17,
   "id": "0837f158-cbce-477a-a032-edfbe2aa93c6",
   "metadata": {},
   "outputs": [
    {
     "data": {
      "image/png": "[encoded data removed]",
      "text/plain": [
       "<Figure size 1000x600 with 1 Axes>"
      ]
     },
     "metadata": {},
     "output_type": "display_data"
    }
   ],
   "source": [
    "import matplotlib.pyplot as plt\n",
    "import seaborn as sns\n",
    "\n",
    "plt.figure(figsize=(10, 6))\n",
    "sns.barplot(data=top_3_df, x='age_group', y='procedure_count', hue='procedure_name')\n",
    "plt.title('Top 3 Procedures per Age Group')\n",
    "plt.ylabel('Count')\n",
    "plt.show()"
   ]
  },
  {
   "cell_type": "markdown",
   "id": "55b499d1-77de-4fed-a3db-b523cc8f88a9",
   "metadata": {},
   "source": [
    "**3. How long do patients stay in the ICU? Is there a difference in the ICU length of stay among gender or ethnicity?**"
   ]
  },
  {
   "cell_type": "markdown",
   "id": "f5a2a2b9-2e49-4869-8a52-4fd1d5f107e9",
   "metadata": {},
   "source": [
    "A."
   ]
  },
  {
   "cell_type": "code",
   "execution_count": 18,
   "id": "cd9f458a-8ed9-4ced-9054-5b3134874175",
   "metadata": {},
   "outputs": [
    {
     "data": {
      "text/plain": [
       "<cassandra.cluster.ResultSet at 0x764fd293c890>"
      ]
     },
     "execution_count": 18,
     "metadata": {},
     "output_type": "execute_result"
    }
   ],
   "source": [
    "session.execute(\"DROP TABLE IF EXISTS icu_stay_records;\")"
   ]
  },
  {
   "cell_type": "code",
   "execution_count": 19,
   "id": "51efc823-73e3-432d-b244-2ed7fc7c4855",
   "metadata": {},
   "outputs": [
    {
     "data": {
      "text/plain": [
       "<cassandra.cluster.ResultSet at 0x764fd2970b50>"
      ]
     },
     "execution_count": 19,
     "metadata": {},
     "output_type": "execute_result"
    }
   ],
   "source": [
    "session.execute(\"\"\"\n",
    "    CREATE TABLE IF NOT EXISTS icu_stay_records (\n",
    "        uid UUID,\n",
    "        stay_length INT,\n",
    "        gender TEXT,\n",
    "        ethnicity TEXT,\n",
    "        PRIMARY KEY (uid)\n",
    "    );\n",
    "\"\"\")"
   ]
  },
  {
   "cell_type": "markdown",
   "id": "e2356a4a-eeb8-4002-8ac3-ad7c9e2e7f89",
   "metadata": {},
   "source": [
    "B."
   ]
  },
  {
   "cell_type": "code",
   "execution_count": 22,
   "id": "ae9056dc-7f2f-43d8-86a1-322822c40356",
   "metadata": {},
   "outputs": [],
   "source": [
    "ICUSTAYS = pd.read_csv(\"ICUSTAYS.csv\", parse_dates=['intime', 'outtime'])\n",
    "\n",
    "ICUSTAYS['stay_length'] = (ICUSTAYS['outtime'] - ICUSTAYS['intime']).dt.days\n",
    "\n",
    "\n",
    "merged_temp = ICUSTAYS.merge(ADMISSIONS[['hadm_id', 'subject_id', 'ethnicity']], on='hadm_id', how='left')\n",
    "merged_temp.rename(columns={'subject_id_y': 'subject_id'}, inplace=True)\n",
    "merged_icu = merged_temp.merge(PATIENTS[['subject_id', 'gender']], on='subject_id', how='left')\n",
    "\n",
    "merged_icu = merged_icu.dropna(subset=['stay_length', 'gender', 'ethnicity'])\n",
    "merged_icu = merged_icu[merged_icu['stay_length'] >= 0]"
   ]
  },
  {
   "cell_type": "markdown",
   "id": "e92aa1d6-51b6-4e8e-824c-1ca97962aafe",
   "metadata": {},
   "source": [
    "C."
   ]
  },
  {
   "cell_type": "code",
   "execution_count": 23,
   "id": "359a917c-3893-419f-993b-876a2865732c",
   "metadata": {},
   "outputs": [],
   "source": [
    "from uuid import uuid4\n",
    "\n",
    "insert_stmt = session.prepare(\"\"\"\n",
    "    INSERT INTO icu_stay_records (uid, stay_length, gender, ethnicity)\n",
    "    VALUES (?, ?, ?, ?)\n",
    "\"\"\")\n",
    "\n",
    "for _, row in merged_icu.iterrows():\n",
    "    session.execute(insert_stmt, (\n",
    "        uuid4(),\n",
    "        int(row['stay_length']),\n",
    "        row['gender'],\n",
    "        row['ethnicity']\n",
    "    ))"
   ]
  },
  {
   "cell_type": "markdown",
   "id": "ff0058af-78ec-49f9-92f5-4afbee103773",
   "metadata": {},
   "source": [
    "D. "
   ]
  },
  {
   "cell_type": "code",
   "execution_count": 24,
   "id": "2ee30c07-389c-4273-bbf4-e0b7aa0ff4b7",
   "metadata": {},
   "outputs": [
    {
     "name": "stdout",
     "output_type": "stream",
     "text": [
      "count    136.000000\n",
      "mean       3.941176\n",
      "std        6.226306\n",
      "min        0.000000\n",
      "25%        1.000000\n",
      "50%        2.000000\n",
      "75%        4.000000\n",
      "max       35.000000\n",
      "Name: stay_length, dtype: float64\n"
     ]
    }
   ],
   "source": [
    "rows = session.execute(\"SELECT gender, ethnicity, stay_length FROM icu_stay_records;\")\n",
    "icu_df = pd.DataFrame(rows)\n",
    "print(icu_df['stay_length'].describe())"
   ]
  },
  {
   "cell_type": "markdown",
   "id": "cf9e0166-fbb9-4737-b29f-3068ba989aac",
   "metadata": {},
   "source": [
    "For Gender:"
   ]
  },
  {
   "cell_type": "code",
   "execution_count": 25,
   "id": "d7cc23df-9652-44ed-8f51-b58be230716c",
   "metadata": {},
   "outputs": [
    {
     "name": "stdout",
     "output_type": "stream",
     "text": [
      "  gender   Q1  Median   Q3      Mean       Std  Count\n",
      "0      F  1.0     2.0  4.0  5.015873  7.879111     63\n",
      "1      M  1.0     1.0  3.0  3.013699  4.164977     73\n"
     ]
    }
   ],
   "source": [
    "rows = session.execute(\"SELECT gender, stay_length FROM icu_stay_records;\")\n",
    "icu_gender_df = pd.DataFrame(rows)\n",
    "\n",
    "gender_stats = icu_gender_df.groupby('gender')['stay_length'].agg(\n",
    "    Q1=lambda x: x.quantile(0.25),\n",
    "    Median='median',\n",
    "    Q3=lambda x: x.quantile(0.75),\n",
    "    Mean='mean',\n",
    "    Std='std',\n",
    "    Count='count'\n",
    ").reset_index()\n",
    "\n",
    "print(gender_stats)\n"
   ]
  },
  {
   "cell_type": "markdown",
   "id": "ca102fe3-eca1-48e2-a123-6fab84017268",
   "metadata": {},
   "source": [
    "For Ethinicity:"
   ]
  },
  {
   "cell_type": "code",
   "execution_count": 26,
   "id": "930366a3-8f72-4f72-9390-b212eae11ce0",
   "metadata": {},
   "outputs": [
    {
     "name": "stdout",
     "output_type": "stream",
     "text": [
      "                                           ethnicity     Q1  Median     Q3  \\\n",
      "0  AMERICAN INDIAN/ALASKA NATIVE FEDERALLY RECOGN...   6.00    11.0  16.00   \n",
      "1                                              ASIAN   1.75     3.5   5.25   \n",
      "2                             BLACK/AFRICAN AMERICAN   0.50     3.0   7.50   \n",
      "3                                 HISPANIC OR LATINO   3.00     3.0   9.00   \n",
      "4                     HISPANIC/LATINO - PUERTO RICAN   1.00     2.0   2.00   \n",
      "5                                              OTHER   0.00     0.0   0.50   \n",
      "6                                   UNABLE TO OBTAIN  13.00    13.0  13.00   \n",
      "7                              UNKNOWN/NOT SPECIFIED   2.00     2.0   4.00   \n",
      "8                                              WHITE   1.00     1.5   3.00   \n",
      "\n",
      "        Mean        Std  Count  \n",
      "0  11.000000  14.142136      2  \n",
      "1   3.500000   4.949747      2  \n",
      "2   7.142857  11.186727      7  \n",
      "3   7.000000   6.928203      3  \n",
      "4   2.600000   3.157757     15  \n",
      "5   0.333333   0.577350      3  \n",
      "6  13.000000        NaN      1  \n",
      "7   4.363636   4.884112     11  \n",
      "8   3.641304   6.135076     92  \n"
     ]
    }
   ],
   "source": [
    "rows = session.execute(\"SELECT ethnicity, stay_length FROM icu_stay_records;\")\n",
    "icu_ethnicity_df = pd.DataFrame(rows)\n",
    "\n",
    "ethnicity_stats = icu_ethnicity_df.groupby('ethnicity')['stay_length'].agg(\n",
    "    Q1=lambda x: x.quantile(0.25),\n",
    "    Median='median',\n",
    "    Q3=lambda x: x.quantile(0.75),\n",
    "    Mean='mean',\n",
    "    Std='std',\n",
    "    Count='count'\n",
    ").reset_index()\n",
    "\n",
    "print(ethnicity_stats)"
   ]
  },
  {
   "cell_type": "code",
   "execution_count": null,
   "id": "3a56b0a6-8331-445b-9bfc-f5224dfad61d",
   "metadata": {},
   "outputs": [],
   "source": []
  }
 ],
 "metadata": {
  "kernelspec": {
   "display_name": "Python 3 (ipykernel)",
   "language": "python",
   "name": "python3"
  },
  "language_info": {
   "codemirror_mode": {
    "name": "ipython",
    "version": 3
   },
   "file_extension": ".py",
   "mimetype": "text/x-python",
   "name": "python",
   "nbconvert_exporter": "python",
   "pygments_lexer": "ipython3",
   "version": "3.11.6"
  }
 },
 "nbformat": 4,
 "nbformat_minor": 5
}
